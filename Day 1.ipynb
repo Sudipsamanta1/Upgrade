{
 "cells": [
  {
   "cell_type": "markdown",
   "metadata": {},
   "source": [
    "# ADD , MULTIPLY , SUBSTRACT , DIVIDE OF TWO GIVEN NO\n"
   ]
  },
  {
   "cell_type": "code",
   "execution_count": 1,
   "metadata": {},
   "outputs": [
    {
     "name": "stdout",
     "output_type": "stream",
     "text": [
      "enter 1st number : 12\n",
      "enter 2nd number : 3\n",
      "\n",
      " The Addition is :: 15 \n",
      " The multiplication is ::  36 \n",
      " The subtraction is ::  9 \n",
      " The divition is ::  4.0\n"
     ]
    }
   ],
   "source": [
    "x=int(input(\"enter 1st number : \"))\n",
    "y=int(input(\"enter 2nd number : \"))\n",
    "a=x+y\n",
    "m=x*y\n",
    "s=x-y\n",
    "d=x/y\n",
    "print(\"\\n The Addition is ::\" ,a,\"\\n The multiplication is :: \",m,\"\\n The subtraction is :: \",s,\"\\n The divition is :: \",d)\n"
   ]
  },
  {
   "cell_type": "markdown",
   "metadata": {},
   "source": [
    "# find X^Y"
   ]
  },
  {
   "cell_type": "code",
   "execution_count": 2,
   "metadata": {},
   "outputs": [
    {
     "name": "stdout",
     "output_type": "stream",
     "text": [
      "enter 1st number : 2\n",
      "enter 2nd number : 3\n",
      "2 ^ 3 = 8\n"
     ]
    }
   ],
   "source": [
    "x=int(input(\"enter 1st number : \"))\n",
    "y=int(input(\"enter 2nd number : \"))\n",
    "p=x**y\n",
    "print(x,\"^\",y,\"=\",p)"
   ]
  },
  {
   "cell_type": "code",
   "execution_count": null,
   "metadata": {},
   "outputs": [],
   "source": []
  }
 ],
 "metadata": {
  "kernelspec": {
   "display_name": "Python 3",
   "language": "python",
   "name": "python3"
  },
  "language_info": {
   "codemirror_mode": {
    "name": "ipython",
    "version": 3
   },
   "file_extension": ".py",
   "mimetype": "text/x-python",
   "name": "python",
   "nbconvert_exporter": "python",
   "pygments_lexer": "ipython3",
   "version": "3.8.5"
  }
 },
 "nbformat": 4,
 "nbformat_minor": 4
}
